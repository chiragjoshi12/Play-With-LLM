{
  "cells": [
    {
      "cell_type": "code",
      "execution_count": null,
      "metadata": {
        "id": "B0-NbtZiBIiv"
      },
      "outputs": [],
      "source": [
        "# Module Installation\n",
        "\n",
        "!pip install langchain\n",
        "!pip install openai\n",
        "!pip install weaviate-client\n",
        "!pip install tiktoken\n",
        "!pip install faiss-gpu\n",
        "!pip install langchain_experimental"
      ]
    },
    {
      "cell_type": "code",
      "execution_count": null,
      "metadata": {
        "id": "1s--mfl-BJ5A"
      },
      "outputs": [],
      "source": [
        "from langchain.chains import RetrievalQA\n",
        "from langchain.chat_models import ChatOpenAI\n",
        "from langchain.document_loaders import TextLoader\n",
        "from langchain_community.document_loaders import JSONLoader\n",
        "from langchain.text_splitter import CharacterTextSplitter\n",
        "from langchain.embeddings import OpenAIEmbeddings, HuggingFaceInstructEmbeddings\n",
        "from langchain.memory import ConversationBufferMemory\n",
        "from langchain.chains import ConversationalRetrievalChain\n",
        "import tiktoken"
      ]
    },
    {
      "cell_type": "markdown",
      "metadata": {
        "id": "pNr7KDcF0-Jq"
      },
      "source": [
        "### How to Get **`WEAVIATE_API_KEY`** and **`WEAVIATE_CLUSTER`** ❓❓\n",
        "\n",
        "1. Go on [Weaviate console](https://console.weaviate.cloud/) and make Account\n",
        "2. Go on [Weaviate Dashboard](https://console.weaviate.cloud/dashboard) and click on \"Create Index\" and make new index\n",
        "3. After creating index, you can see **Cluster URL**. Click on copy button and copy **Cluster URL**\n",
        "4. and you can also see **Enabled (Authentication)**. Click on *API keys* Button and copy Your **WEAVIATE_API_KEY**\n",
        "\n",
        "<br>\n",
        "<br>\n",
        "\n",
        "<img alt=\"weaviate_DB Image\" src=\"./img/weaviate_DB.png\">\n",
        "\n",
        "<br>\n",
        "<br>"
      ]
    },
    {
      "cell_type": "code",
      "execution_count": null,
      "metadata": {
        "id": "wb30MdMQBJ7p"
      },
      "outputs": [],
      "source": [
        "OPENAI_API_KEY = \"YOUR_OPENAI_API_KEY\"            # Go on \"https://platform.openai.com/api-keys\" and get Your OPENAI_API_KEY\n",
        "WEAVIATE_API_KEY = \"YOUR_WEAVIATE_API_KEY\"\n",
        "WEAVIATE_CLUSTER = \"YOUR_WEAVIATE_CLUSTER\""
      ]
    },
    {
      "cell_type": "code",
      "execution_count": null,
      "metadata": {
        "id": "Po02l81lBJ91"
      },
      "outputs": [],
      "source": [
        "llm_model = \"gpt-3.5-turbo\""
      ]
    },
    {
      "cell_type": "markdown",
      "metadata": {
        "id": "0UbqYbz5SZc-"
      },
      "source": [
        "## 📑 Data Reading"
      ]
    },
    {
      "cell_type": "markdown",
      "metadata": {},
      "source": [
        "### TXT Loader"
      ]
    },
    {
      "cell_type": "code",
      "execution_count": null,
      "metadata": {},
      "outputs": [],
      "source": [
        "txt_file_path = './Data/SyllabusData.json'\n",
        "loader = TextLoader(file_path=txt_file_path, encoding=\"utf-8\")\n",
        "data = loader.load()"
      ]
    },
    {
      "cell_type": "code",
      "execution_count": null,
      "metadata": {},
      "outputs": [],
      "source": [
        "data"
      ]
    },
    {
      "cell_type": "markdown",
      "metadata": {
        "id": "izONsY_LYbxX"
      },
      "source": [
        "## ✂️ Text Splitting"
      ]
    },
    {
      "cell_type": "code",
      "execution_count": null,
      "metadata": {
        "id": "FeDhoJLbYeh2"
      },
      "outputs": [],
      "source": [
        "from langchain.text_splitter import RecursiveCharacterTextSplitter\n",
        "\n",
        "text_splitter = RecursiveCharacterTextSplitter(chunk_size=1000, chunk_overlap=20)\n",
        "docs = text_splitter.split_documents(data)"
      ]
    },
    {
      "cell_type": "code",
      "execution_count": null,
      "metadata": {
        "id": "kyNMXpi0YmZF"
      },
      "outputs": [],
      "source": [
        "docs"
      ]
    },
    {
      "cell_type": "code",
      "execution_count": null,
      "metadata": {
        "colab": {
          "base_uri": "https://localhost:8080/"
        },
        "id": "M2ousA2GYmsS",
        "outputId": "7aea28d6-337f-402d-a7ed-40261019374b"
      },
      "outputs": [
        {
          "data": {
            "text/plain": [
              "14"
            ]
          },
          "execution_count": 13,
          "metadata": {},
          "output_type": "execute_result"
        }
      ],
      "source": [
        "len(docs)"
      ]
    },
    {
      "cell_type": "markdown",
      "metadata": {
        "id": "dyX-MXixdSzy"
      },
      "source": [
        "## 👨‍💻 Embedding Convertion"
      ]
    },
    {
      "cell_type": "code",
      "execution_count": null,
      "metadata": {
        "colab": {
          "base_uri": "https://localhost:8080/"
        },
        "id": "iewCpyRWP7KH",
        "outputId": "d9338d75-0ac4-4644-a53c-d602968d163b"
      },
      "outputs": [
        {
          "name": "stderr",
          "output_type": "stream",
          "text": [
            "/usr/local/lib/python3.10/dist-packages/langchain_core/_api/deprecation.py:117: LangChainDeprecationWarning: The class `langchain_community.embeddings.openai.OpenAIEmbeddings` was deprecated in langchain-community 0.0.9 and will be removed in 0.2.0. An updated version of the class exists in the langchain-openai package and should be used instead. To use it run `pip install -U langchain-openai` and import as `from langchain_openai import OpenAIEmbeddings`.\n",
            "  warn_deprecated(\n"
          ]
        }
      ],
      "source": [
        "from langchain.embeddings.openai import OpenAIEmbeddings\n",
        "\n",
        "embeddings = OpenAIEmbeddings(openai_api_key= OPENAI_API_KEY)"
      ]
    },
    {
      "cell_type": "markdown",
      "metadata": {
        "id": "aQm4ZzrULjvd"
      },
      "source": [
        "# 📊 Text to Weaviate DB"
      ]
    },
    {
      "cell_type": "code",
      "execution_count": null,
      "metadata": {
        "id": "Re9X87gsO23X"
      },
      "outputs": [],
      "source": [
        "import weaviate\n",
        "from langchain.vectorstores import Weaviate\n",
        "\n",
        "#Connect to weaviate Cluster\n",
        "auth_config = weaviate.auth.AuthApiKey(api_key = WEAVIATE_API_KEY)\n",
        "WEAVIATE_URL = WEAVIATE_CLUSTER\n",
        "\n",
        "client = weaviate.Client(\n",
        "    url = WEAVIATE_URL,\n",
        "    additional_headers = {\"X-OpenAI-Api-key\": OPENAI_API_KEY},\n",
        "    auth_client_secret = auth_config,\n",
        "    startup_period = 10\n",
        ")"
      ]
    },
    {
      "cell_type": "code",
      "execution_count": null,
      "metadata": {
        "colab": {
          "base_uri": "https://localhost:8080/"
        },
        "id": "_-M3NbH1PcSe",
        "outputId": "6f955778-d9c3-4bbd-83fa-429071b4f9a0"
      },
      "outputs": [
        {
          "data": {
            "text/plain": [
              "True"
            ]
          },
          "execution_count": 16,
          "metadata": {},
          "output_type": "execute_result"
        }
      ],
      "source": [
        "client.is_ready()"
      ]
    },
    {
      "cell_type": "code",
      "execution_count": null,
      "metadata": {
        "id": "GgFvGO9sPicM"
      },
      "outputs": [],
      "source": [
        "# define input structure\n",
        "client.schema.delete_all()\n",
        "client.schema.get()\n",
        "schema = {\n",
        "    \"classes\": [\n",
        "        {\n",
        "            \"class\": \"Chatbot\",\n",
        "            \"description\": \"Documents for chatbot\",\n",
        "            \"vectorizer\": \"text2vec-openai\",\n",
        "            \"moduleConfig\": {\"text2vec-openai\": {\"model\": \"ada\", \"type\": \"text\"}},\n",
        "            \"properties\": [\n",
        "                {\n",
        "                    \"dataType\": [\"text\"],\n",
        "                    \"description\": \"The content of the paragraph\",\n",
        "                    \"moduleConfig\": {\n",
        "                        \"text2vec-openai\": {\n",
        "                            \"skip\": False,\n",
        "                            \"vectorizePropertyName\": False,\n",
        "                        }\n",
        "                    },\n",
        "                    \"name\": \"content\",\n",
        "                },\n",
        "            ],\n",
        "        },\n",
        "    ]\n",
        "}\n",
        "\n",
        "client.schema.create(schema)\n",
        "vectorstore = Weaviate(client, \"Chatbot\", \"content\", attributes=[\"source\"])"
      ]
    },
    {
      "cell_type": "code",
      "execution_count": null,
      "metadata": {
        "colab": {
          "base_uri": "https://localhost:8080/"
        },
        "id": "guWA9FBFQMmQ",
        "outputId": "41a273ce-7a75-47c3-e0ce-18965ff22567"
      },
      "outputs": [
        {
          "data": {
            "text/plain": [
              "['ffacdcce-b312-4b0a-9fa2-96ca8032b17d',\n",
              " '69c4cd39-bb0f-4494-88e9-a40a6fe425ee',\n",
              " '3f4a99a9-2e91-44c8-8f7c-55c9b1c6e61a',\n",
              " '3c124afa-df23-421b-bb4b-df327f208b10',\n",
              " '58e49ac4-8f20-4a63-9c12-99c43b428dcc',\n",
              " '2198ab0b-eee2-4ef3-9ae1-1f27767b91e3',\n",
              " 'ed06db8f-c9c3-4f3c-b106-b8cfc23f9eca',\n",
              " '515e9b5e-09be-4933-80df-d49815443157',\n",
              " 'efbb402b-3054-494a-b907-d4a3aedfc499',\n",
              " '4127b29d-5724-44fa-80c3-0bca1e74e215',\n",
              " 'ebadf4a6-298c-40f3-98fa-3c1fe60ba501',\n",
              " '8ec4ca57-f04a-4875-ba58-7405e9b7a404',\n",
              " '2ab35189-0202-4c76-91a1-e94fac25b864',\n",
              " 'b89f7d05-a2eb-4282-8b31-85f715fb6f2e']"
            ]
          },
          "execution_count": 18,
          "metadata": {},
          "output_type": "execute_result"
        }
      ],
      "source": [
        "# load text into the vectorstore\n",
        "text_meta_pair = [(doc.page_content, doc.metadata) for doc in docs]\n",
        "texts, meta = list(zip(*text_meta_pair))\n",
        "vectorstore.add_texts(texts, meta)"
      ]
    },
    {
      "cell_type": "code",
      "execution_count": null,
      "metadata": {
        "id": "MK0Krrd9Qofd"
      },
      "outputs": [],
      "source": [
        "import weaviate\n",
        "\n",
        "# Set these environment variables\n",
        "URL = WEAVIATE_CLUSTER\n",
        "APIKEY = WEAVIATE_API_KEY\n",
        "\n",
        "# Connect to a WCS instance\n",
        "client = weaviate.connect_to_wcs(\n",
        "    cluster_url=URL,\n",
        "    auth_credentials=weaviate.auth.AuthApiKey(APIKEY))"
      ]
    },
    {
      "cell_type": "markdown",
      "metadata": {
        "id": "SezulWsY0RL4"
      },
      "source": [
        "# 🔗 Create conversation chain"
      ]
    },
    {
      "cell_type": "code",
      "execution_count": null,
      "metadata": {
        "colab": {
          "base_uri": "https://localhost:8080/"
        },
        "id": "qZOmPg9pBxHP",
        "outputId": "b44d198e-aa20-4295-c2a7-881722d8e753"
      },
      "outputs": [
        {
          "name": "stderr",
          "output_type": "stream",
          "text": [
            "/usr/local/lib/python3.10/dist-packages/langchain_core/_api/deprecation.py:117: LangChainDeprecationWarning: The class `langchain_community.chat_models.openai.ChatOpenAI` was deprecated in langchain-community 0.0.10 and will be removed in 0.2.0. An updated version of the class exists in the langchain-openai package and should be used instead. To use it run `pip install -U langchain-openai` and import as `from langchain_openai import ChatOpenAI`.\n",
            "  warn_deprecated(\n"
          ]
        }
      ],
      "source": [
        "llm = ChatOpenAI(temperature=0.7, model_name=llm_model, openai_api_key=OPENAI_API_KEY)\n",
        "memory = ConversationBufferMemory(\n",
        "memory_key='chat_history', return_messages=True)\n",
        "conversation_chain = ConversationalRetrievalChain.from_llm(\n",
        "        llm=llm,\n",
        "        chain_type=\"stuff\",\n",
        "        retriever=vectorstore.as_retriever(),\n",
        "        memory=memory\n",
        "        )"
      ]
    },
    {
      "cell_type": "code",
      "execution_count": null,
      "metadata": {
        "colab": {
          "base_uri": "https://localhost:8080/",
          "height": 145
        },
        "id": "T_il9FdyBy6r",
        "outputId": "fcc4b418-21d0-42c8-9a3f-968913436863"
      },
      "outputs": [
        {
          "name": "stderr",
          "output_type": "stream",
          "text": [
            "/usr/local/lib/python3.10/dist-packages/langchain_core/_api/deprecation.py:117: LangChainDeprecationWarning: The function `__call__` was deprecated in LangChain 0.1.0 and will be removed in 0.2.0. Use invoke instead.\n",
            "  warn_deprecated(\n"
          ]
        },
        {
          "data": {
            "application/vnd.google.colaboratory.intrinsic+json": {
              "type": "string"
            },
            "text/plain": [
              "'History is the study of past events, particularly in human societies, through the examination of sources such as artifacts, documents, and records. Historians and archaeologists explore and interpret these sources to understand and explain the development of civilizations, cultures, and societies over time. It helps us learn about our ancestors, their way of life, customs, traditions, and the changes that have occurred in human life.'"
            ]
          },
          "execution_count": 22,
          "metadata": {},
          "output_type": "execute_result"
        }
      ],
      "source": [
        "query = \"what is a history ?\"\n",
        "result = conversation_chain({\"question\": query})\n",
        "answer = result[\"answer\"]\n",
        "answer"
      ]
    }
  ],
  "metadata": {
    "accelerator": "GPU",
    "colab": {
      "gpuType": "T4",
      "provenance": []
    },
    "kernelspec": {
      "display_name": "Python 3",
      "name": "python3"
    },
    "language_info": {
      "name": "python"
    }
  },
  "nbformat": 4,
  "nbformat_minor": 0
}
